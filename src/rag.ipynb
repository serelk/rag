{
 "cells": [
  {
   "cell_type": "code",
   "execution_count": 23,
   "id": "201c2aa8-628b-4c2d-b0c9-cdf5a1d7d914",
   "metadata": {},
   "outputs": [],
   "source": [
    "import dotenv\n",
    "from langchain.embeddings import OpenAIEmbeddings\n",
    "from langchain.vectorstores import FAISS\n",
    "import weaviate\n",
    "from weaviate.embedded import EmbeddedOptions\n",
    "import os\n",
    "from langchain.chains.question_answering import load_qa_chain\n",
    "from langchain.llms import OpenAI\n",
    "from langchain.callbacks import get_openai_callback\n",
    "from langchain_community.document_loaders import PyPDFLoader\n",
    "from langchain.text_splitter import RecursiveCharacterTextSplitter"
   ]
  },
  {
   "cell_type": "code",
   "execution_count": 35,
   "id": "e5a3b326-e867-490f-ad27-af935b873ac8",
   "metadata": {},
   "outputs": [],
   "source": [
    "dotenv.load_dotenv()\n",
    "\n",
    "OPENAI_API_KEY = os.getenv(\"OPENAI_API_KEY\") \n"
   ]
  },
  {
   "cell_type": "code",
   "execution_count": 7,
   "id": "05b85204-730e-4e6a-928a-70fe44882aad",
   "metadata": {},
   "outputs": [],
   "source": [
    "loader = PyPDFLoader(\"data/cv.pdf\")\n",
    "pages = loader.load_and_split()"
   ]
  },
  {
   "cell_type": "code",
   "execution_count": 8,
   "id": "2b7cde9f-2841-4fdc-9e9b-ff9ac3f61bfb",
   "metadata": {},
   "outputs": [
    {
     "data": {
      "text/plain": [
       "2"
      ]
     },
     "execution_count": 8,
     "metadata": {},
     "output_type": "execute_result"
    }
   ],
   "source": [
    "len(pages)"
   ]
  },
  {
   "cell_type": "code",
   "execution_count": 10,
   "id": "0325a8e5-2365-43c8-999d-2e1eed878100",
   "metadata": {},
   "outputs": [],
   "source": [
    "\n",
    "text_splitter = RecursiveCharacterTextSplitter(\n",
    "    chunk_size = 1500,\n",
    "    chunk_overlap = 150\n",
    ")"
   ]
  },
  {
   "cell_type": "code",
   "execution_count": 11,
   "id": "891ba099-ee93-4fbf-bd6d-210adaedf358",
   "metadata": {},
   "outputs": [],
   "source": [
    "chunks= text_splitter.split_documents(pages)"
   ]
  },
  {
   "cell_type": "code",
   "execution_count": 12,
   "id": "62d1b42f-f75a-4057-8490-b8432c831b5d",
   "metadata": {},
   "outputs": [
    {
     "data": {
      "text/plain": [
       "2"
      ]
     },
     "execution_count": 12,
     "metadata": {},
     "output_type": "execute_result"
    }
   ],
   "source": [
    "len(chunks)"
   ]
  },
  {
   "cell_type": "code",
   "execution_count": 16,
   "id": "7bcc15fc-5964-4672-9ab4-64ea25c92017",
   "metadata": {},
   "outputs": [],
   "source": [
    "from langchain.embeddings.openai import OpenAIEmbeddings\n",
    "model_name = 'text-embedding-ada-002'\n",
    "\n",
    "embeddings = OpenAIEmbeddings(\n",
    "    model=model_name,\n",
    "    openai_api_key=OPENAI_API_KEY\n",
    ")\n",
    "\n",
    "db = FAISS.from_documents(pages, embeddings)"
   ]
  },
  {
   "cell_type": "code",
   "execution_count": 79,
   "id": "f07840ca-9608-4840-bd99-dff07ef5e8ce",
   "metadata": {},
   "outputs": [
    {
     "data": {
      "text/plain": [
       "langchain_core.documents.base.Document"
      ]
     },
     "execution_count": 79,
     "metadata": {},
     "output_type": "execute_result"
    }
   ],
   "source": [
    "type(splits[0])"
   ]
  },
  {
   "cell_type": "code",
   "execution_count": 36,
   "id": "2bb2eb59-863c-45ea-b492-ff009115932d",
   "metadata": {},
   "outputs": [],
   "source": [
    "\n",
    "user_question = \"where sergey worked at 2005 \"\n",
    "if user_question:\n",
    "    docs = db.similarity_search(user_question)"
   ]
  },
  {
   "cell_type": "code",
   "execution_count": 37,
   "id": "0b1d7fc8-06d8-4ddf-8853-70ec440dad8c",
   "metadata": {},
   "outputs": [
    {
     "name": "stdout",
     "output_type": "stream",
     "text": [
      " Taldor \n",
      "Tokens Used: 734\n",
      "\tPrompt Tokens: 730\n",
      "\tCompletion Tokens: 4\n",
      "Successful Requests: 1\n",
      "Total Cost (USD): $0.001103\n"
     ]
    },
    {
     "name": "stderr",
     "output_type": "stream",
     "text": [
      "/Users/serelk/Library/Caches/pypoetry/virtualenvs/rag-abbAtn0G-py3.12/lib/python3.12/site-packages/pydantic/main.py:1024: PydanticDeprecatedSince20: The `dict` method is deprecated; use `model_dump` instead. Deprecated in Pydantic V2.0 to be removed in V3.0. See Pydantic V2 Migration Guide at https://errors.pydantic.dev/2.6/migration/\n",
      "  warnings.warn('The `dict` method is deprecated; use `model_dump` instead.', category=PydanticDeprecatedSince20)\n"
     ]
    }
   ],
   "source": [
    "llm = OpenAI()\n",
    "        \n",
    "chain = load_qa_chain(llm, chain_type=\"stuff\")\n",
    "with get_openai_callback() as cb:\n",
    "    response = chain.run(input_documents=docs, question=user_question)\n",
    "    print(response)\n",
    "    print(cb)"
   ]
  },
  {
   "cell_type": "code",
   "execution_count": null,
   "id": "ae9defb4-25b5-4fb4-943e-c01349350216",
   "metadata": {},
   "outputs": [],
   "source": []
  }
 ],
 "metadata": {
  "kernelspec": {
   "display_name": "Python 3 (ipykernel)",
   "language": "python",
   "name": "python3"
  },
  "language_info": {
   "codemirror_mode": {
    "name": "ipython",
    "version": 3
   },
   "file_extension": ".py",
   "mimetype": "text/x-python",
   "name": "python",
   "nbconvert_exporter": "python",
   "pygments_lexer": "ipython3",
   "version": "3.12.2"
  }
 },
 "nbformat": 4,
 "nbformat_minor": 5
}
